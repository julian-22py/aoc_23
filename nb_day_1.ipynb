{
 "cells": [
  {
   "cell_type": "code",
   "execution_count": 57,
   "metadata": {},
   "outputs": [],
   "source": [
    "import pandas as pd"
   ]
  },
  {
   "cell_type": "code",
   "execution_count": 58,
   "metadata": {},
   "outputs": [],
   "source": [
    "# load data\n",
    "data = pd.read_csv(\"input/input_1.csv\", header=None)\n",
    "data.columns = ['raw']\n"
   ]
  },
  {
   "cell_type": "code",
   "execution_count": 66,
   "metadata": {},
   "outputs": [
    {
     "name": "stdout",
     "output_type": "stream",
     "text": [
      "                                           raw    num res\n",
      "868                                pgvjtszlkx4      4  44\n",
      "905                               sevenonedcs9      9  99\n",
      "681  onehglhgkcksm2onemzpnqmbxccvpxxssg1gcpvhl     21  21\n",
      "682      sevenhhhgntcldxlfbrpks27threeeightwoh     27  27\n",
      "729                             1two465sixnine   1465  15\n",
      "257                               four93kssrxr     93  93\n",
      "669      seven1qhxhgxsx8fzlbkm9hpmnqkknjpseven    189  19\n",
      "50        lqpfphxdtfourxbqdhrbcz2cmhtddsnkpgln      2  22\n",
      "543       thrxlfmbmtsxjzsx5fivelvknrgctp5vlmpf     55  55\n",
      "676               59lqvpccqlbmqqtzfourseven547  59547  57\n"
     ]
    }
   ],
   "source": [
    "# get column with numbers only\n",
    "data['num'] = data['raw'].str.replace('[^0-9]', '', regex=True)\n",
    "\n",
    "# save first and last digit (when only one digit, it gets save twice)\n",
    "data['res'] = data['num'].str[0] + data['num'].str[-1]\n",
    "\n",
    "print(data.sample(10))\n"
   ]
  },
  {
   "cell_type": "code",
   "execution_count": 65,
   "metadata": {},
   "outputs": [
    {
     "name": "stdout",
     "output_type": "stream",
     "text": [
      "The solution is 55002\n"
     ]
    }
   ],
   "source": [
    "# SOLUTION\n",
    "sum_num = data['res'].astype(int).sum()\n",
    "\n",
    "print(f\"The solution is {sum_num}!\")"
   ]
  }
 ],
 "metadata": {
  "kernelspec": {
   "display_name": "code_of_advent",
   "language": "python",
   "name": "python3"
  },
  "language_info": {
   "codemirror_mode": {
    "name": "ipython",
    "version": 3
   },
   "file_extension": ".py",
   "mimetype": "text/x-python",
   "name": "python",
   "nbconvert_exporter": "python",
   "pygments_lexer": "ipython3",
   "version": "3.11.5"
  },
  "orig_nbformat": 4
 },
 "nbformat": 4,
 "nbformat_minor": 2
}
