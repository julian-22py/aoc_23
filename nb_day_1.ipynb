{
 "cells": [
  {
   "cell_type": "code",
   "execution_count": 1,
   "metadata": {},
   "outputs": [],
   "source": [
    "import pandas as pd"
   ]
  },
  {
   "cell_type": "code",
   "execution_count": 19,
   "metadata": {},
   "outputs": [],
   "source": [
    "# load data\n",
    "data = pd.read_csv(\"input/input_1.csv\", header=None)\n",
    "data.columns = ['raw']\n"
   ]
  },
  {
   "cell_type": "code",
   "execution_count": 76,
   "metadata": {},
   "outputs": [
    {
     "name": "stdout",
     "output_type": "stream",
     "text": [
      "                                                  raw  num\n",
      "284                                            9c4six   94\n",
      "859                                 three7two7six2kxl  772\n",
      "952                                             ldr43   43\n",
      "702                             ngmnllfj49dlqdmnthree   49\n",
      "871          56sevenjdfvfbzvsgthreemrbmcqctgonesixppg   56\n",
      "669             seven1qhxhgxsx8fzlbkm9hpmnqkknjpseven  189\n",
      "444  blrlnfnnvbhkltmgqqsixsix2bdnprfp2rpqtnvbtwonenpx   22\n",
      "495                                79szleighttwofivef   79\n",
      "600                                            pfgb55   55\n",
      "341                    qrphvhfqninemcnzfrhfbvdtsnhst3    3\n"
     ]
    }
   ],
   "source": [
    "data['num'] = data['raw'].str.replace('[^0-9]', '', regex=True).astype(int)\n",
    "print(data.sample(10))\n"
   ]
  },
  {
   "cell_type": "code",
   "execution_count": 75,
   "metadata": {},
   "outputs": [
    {
     "name": "stdout",
     "output_type": "stream",
     "text": [
      "The solution is 9303122\n"
     ]
    }
   ],
   "source": [
    "# SOLUTION\n",
    "sum_num = data['num'].sum()\n",
    "\n",
    "print(f\"The solution is {sum_num}\")"
   ]
  },
  {
   "cell_type": "code",
   "execution_count": null,
   "metadata": {},
   "outputs": [],
   "source": []
  },
  {
   "cell_type": "code",
   "execution_count": null,
   "metadata": {},
   "outputs": [],
   "source": []
  }
 ],
 "metadata": {
  "kernelspec": {
   "display_name": "code_of_advent",
   "language": "python",
   "name": "python3"
  },
  "language_info": {
   "codemirror_mode": {
    "name": "ipython",
    "version": 3
   },
   "file_extension": ".py",
   "mimetype": "text/x-python",
   "name": "python",
   "nbconvert_exporter": "python",
   "pygments_lexer": "ipython3",
   "version": "3.11.5"
  },
  "orig_nbformat": 4
 },
 "nbformat": 4,
 "nbformat_minor": 2
}
