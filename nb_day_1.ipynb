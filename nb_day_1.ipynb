{
 "cells": [
  {
   "cell_type": "markdown",
   "metadata": {},
   "source": [
    "# Advent of Code 2023 - Day 1"
   ]
  },
  {
   "cell_type": "markdown",
   "metadata": {},
   "source": [
    "## Part 1"
   ]
  },
  {
   "cell_type": "code",
   "execution_count": 25,
   "metadata": {},
   "outputs": [],
   "source": [
    "import pandas as pd"
   ]
  },
  {
   "cell_type": "code",
   "execution_count": 26,
   "metadata": {},
   "outputs": [],
   "source": [
    "# load data\n",
    "data = pd.read_csv(\"input/input_1.csv\", header=None)\n",
    "data.columns = ['raw']\n"
   ]
  },
  {
   "cell_type": "code",
   "execution_count": 27,
   "metadata": {},
   "outputs": [
    {
     "name": "stdout",
     "output_type": "stream",
     "text": [
      "                                  raw     num res\n",
      "250             7eight43mq354oneightv  743354  74\n",
      "679                        2nineeight       2  22\n",
      "271  two2one8seventwo3hpdbstnhvkthree     283  23\n",
      "478                        2hxdxxstwo       2  22\n",
      "395               2twooneggtzrfqcsqqq       2  22\n",
      "146              dgndjkhcplztmkjrdn53      53  53\n",
      "597                           hgfx464     464  44\n",
      "29      flkdknzdxtgdxcfqkn4mbh4tqvgdq      44  44\n",
      "165              kmbhc8threessdnfmsix       8  88\n",
      "397     pspkmpxzmn9cndplpjskthree7klc      97  97\n"
     ]
    }
   ],
   "source": [
    "# get column with numbers only\n",
    "data['num'] = data['raw'].str.replace('[^0-9]', '', regex=True)\n",
    "\n",
    "# save first and last digit (when only one digit, it gets save twice)\n",
    "data['res'] = data['num'].str[0] + data['num'].str[-1]\n",
    "\n",
    "print(data.sample(10))\n"
   ]
  },
  {
   "cell_type": "code",
   "execution_count": 28,
   "metadata": {},
   "outputs": [
    {
     "name": "stdout",
     "output_type": "stream",
     "text": [
      "The solution is 55002!\n"
     ]
    }
   ],
   "source": [
    "# SOLUTION 1\n",
    "sum_num = data['res'].astype(int).sum()\n",
    "\n",
    "print(f\"The solution of puzzle 1 is {sum_num}!\")"
   ]
  },
  {
   "cell_type": "markdown",
   "metadata": {},
   "source": [
    "## Part 2"
   ]
  },
  {
   "cell_type": "code",
   "execution_count": 29,
   "metadata": {},
   "outputs": [],
   "source": [
    "data_2 = data[['raw']].copy()"
   ]
  },
  {
   "cell_type": "code",
   "execution_count": 30,
   "metadata": {},
   "outputs": [],
   "source": [
    "number_mapping = {\n",
    "    'oneight': '18',\n",
    "    'twone': '21',\n",
    "    'threeight': '38',\n",
    "    'nineight': '98',\n",
    "    'fiveight': '58',\n",
    "    'sevenine': '79',\n",
    "    'eighthree': '83',\n",
    "    'eightwo': '82',\n",
    "    'one': '1',\n",
    "    'two': '2',\n",
    "    'three': '3',\n",
    "    'four': '4',\n",
    "    'five': '5',\n",
    "    'six': '6',\n",
    "    'seven': '7',\n",
    "    'eight': '8',\n",
    "    'nine': '9'\n",
    "}"
   ]
  },
  {
   "cell_type": "code",
   "execution_count": 31,
   "metadata": {},
   "outputs": [
    {
     "data": {
      "text/html": [
       "<div>\n",
       "<style scoped>\n",
       "    .dataframe tbody tr th:only-of-type {\n",
       "        vertical-align: middle;\n",
       "    }\n",
       "\n",
       "    .dataframe tbody tr th {\n",
       "        vertical-align: top;\n",
       "    }\n",
       "\n",
       "    .dataframe thead th {\n",
       "        text-align: right;\n",
       "    }\n",
       "</style>\n",
       "<table border=\"1\" class=\"dataframe\">\n",
       "  <thead>\n",
       "    <tr style=\"text-align: right;\">\n",
       "      <th></th>\n",
       "      <th>raw</th>\n",
       "    </tr>\n",
       "  </thead>\n",
       "  <tbody>\n",
       "    <tr>\n",
       "      <th>13</th>\n",
       "      <td>reightwotz5</td>\n",
       "    </tr>\n",
       "    <tr>\n",
       "      <th>64</th>\n",
       "      <td>hrh34sixfourqqng7eightwot</td>\n",
       "    </tr>\n",
       "    <tr>\n",
       "      <th>237</th>\n",
       "      <td>9one4onesixhvvkqtpleightwovmh</td>\n",
       "    </tr>\n",
       "    <tr>\n",
       "      <th>368</th>\n",
       "      <td>threem5eightwomp</td>\n",
       "    </tr>\n",
       "    <tr>\n",
       "      <th>406</th>\n",
       "      <td>njeightwo52</td>\n",
       "    </tr>\n",
       "    <tr>\n",
       "      <th>500</th>\n",
       "      <td>lxjeightwo6four8</td>\n",
       "    </tr>\n",
       "    <tr>\n",
       "      <th>546</th>\n",
       "      <td>bseightwovtlxsb5sevensrqnrklqvzstncmr6zg</td>\n",
       "    </tr>\n",
       "    <tr>\n",
       "      <th>671</th>\n",
       "      <td>seven3fllzkctljxlcqljbxfrcleightwov</td>\n",
       "    </tr>\n",
       "    <tr>\n",
       "      <th>682</th>\n",
       "      <td>sevenhhhgntcldxlfbrpks27threeeightwoh</td>\n",
       "    </tr>\n",
       "    <tr>\n",
       "      <th>731</th>\n",
       "      <td>qpeightwo4sixfivetwokvzhkg</td>\n",
       "    </tr>\n",
       "    <tr>\n",
       "      <th>746</th>\n",
       "      <td>zeightwofivefour6gcmh97</td>\n",
       "    </tr>\n",
       "    <tr>\n",
       "      <th>756</th>\n",
       "      <td>xlzeightwo3648threegrfourrjzvz</td>\n",
       "    </tr>\n",
       "    <tr>\n",
       "      <th>930</th>\n",
       "      <td>czeightwoninefive7one</td>\n",
       "    </tr>\n",
       "    <tr>\n",
       "      <th>982</th>\n",
       "      <td>vpeightwo15</td>\n",
       "    </tr>\n",
       "  </tbody>\n",
       "</table>\n",
       "</div>"
      ],
      "text/plain": [
       "                                          raw\n",
       "13                                reightwotz5\n",
       "64                  hrh34sixfourqqng7eightwot\n",
       "237             9one4onesixhvvkqtpleightwovmh\n",
       "368                          threem5eightwomp\n",
       "406                               njeightwo52\n",
       "500                          lxjeightwo6four8\n",
       "546  bseightwovtlxsb5sevensrqnrklqvzstncmr6zg\n",
       "671       seven3fllzkctljxlcqljbxfrcleightwov\n",
       "682     sevenhhhgntcldxlfbrpks27threeeightwoh\n",
       "731                qpeightwo4sixfivetwokvzhkg\n",
       "746                   zeightwofivefour6gcmh97\n",
       "756            xlzeightwo3648threegrfourrjzvz\n",
       "930                     czeightwoninefive7one\n",
       "982                               vpeightwo15"
      ]
     },
     "execution_count": 31,
     "metadata": {},
     "output_type": "execute_result"
    }
   ],
   "source": [
    "data_2[data_2.raw.str.contains('eightwo')]"
   ]
  },
  {
   "cell_type": "code",
   "execution_count": 32,
   "metadata": {},
   "outputs": [],
   "source": [
    "# for key, values in number_mapping.items():\n",
    "#     col_name_temp = key + '_repl'\n",
    "#     print(col_name_temp)\n",
    "\n",
    "#     # \n",
    "#     data_2[col_name_temp] = data_2['raw'].replace({key:values}, regex=True)\n",
    "\n",
    "# data_2.head()"
   ]
  },
  {
   "cell_type": "code",
   "execution_count": 33,
   "metadata": {},
   "outputs": [
    {
     "data": {
      "text/html": [
       "<div>\n",
       "<style scoped>\n",
       "    .dataframe tbody tr th:only-of-type {\n",
       "        vertical-align: middle;\n",
       "    }\n",
       "\n",
       "    .dataframe tbody tr th {\n",
       "        vertical-align: top;\n",
       "    }\n",
       "\n",
       "    .dataframe thead th {\n",
       "        text-align: right;\n",
       "    }\n",
       "</style>\n",
       "<table border=\"1\" class=\"dataframe\">\n",
       "  <thead>\n",
       "    <tr style=\"text-align: right;\">\n",
       "      <th></th>\n",
       "      <th>raw</th>\n",
       "      <th>words_repl</th>\n",
       "      <th>num</th>\n",
       "      <th>res</th>\n",
       "    </tr>\n",
       "  </thead>\n",
       "  <tbody>\n",
       "    <tr>\n",
       "      <th>734</th>\n",
       "      <td>94fourldjgvg7drlcxqtnv2</td>\n",
       "      <td>944ldjgvg7drlcxqtnv2</td>\n",
       "      <td>94472</td>\n",
       "      <td>92</td>\n",
       "    </tr>\n",
       "    <tr>\n",
       "      <th>614</th>\n",
       "      <td>4onepfqshseven4seven</td>\n",
       "      <td>41pfqsh747</td>\n",
       "      <td>41747</td>\n",
       "      <td>47</td>\n",
       "    </tr>\n",
       "    <tr>\n",
       "      <th>922</th>\n",
       "      <td>2gnglzbllksix6fgfjrrltrhrspl5seven</td>\n",
       "      <td>2gnglzbllk66fgfjrrltrhrspl57</td>\n",
       "      <td>26657</td>\n",
       "      <td>27</td>\n",
       "    </tr>\n",
       "    <tr>\n",
       "      <th>780</th>\n",
       "      <td>vfq4</td>\n",
       "      <td>vfq4</td>\n",
       "      <td>4</td>\n",
       "      <td>44</td>\n",
       "    </tr>\n",
       "    <tr>\n",
       "      <th>108</th>\n",
       "      <td>9sevenbprbbnzqjbhfpcgnxjmflxgkvqgvc</td>\n",
       "      <td>97bprbbnzqjbhfpcgnxjmflxgkvqgvc</td>\n",
       "      <td>97</td>\n",
       "      <td>97</td>\n",
       "    </tr>\n",
       "    <tr>\n",
       "      <th>45</th>\n",
       "      <td>fnkzsdjh3kqxpdvmkmvqqjcjn</td>\n",
       "      <td>fnkzsdjh3kqxpdvmkmvqqjcjn</td>\n",
       "      <td>3</td>\n",
       "      <td>33</td>\n",
       "    </tr>\n",
       "    <tr>\n",
       "      <th>430</th>\n",
       "      <td>mkvsblkv76</td>\n",
       "      <td>mkvsblkv76</td>\n",
       "      <td>76</td>\n",
       "      <td>76</td>\n",
       "    </tr>\n",
       "    <tr>\n",
       "      <th>436</th>\n",
       "      <td>zndhqdmkntwo6</td>\n",
       "      <td>zndhqdmkn26</td>\n",
       "      <td>26</td>\n",
       "      <td>26</td>\n",
       "    </tr>\n",
       "    <tr>\n",
       "      <th>342</th>\n",
       "      <td>2eightj</td>\n",
       "      <td>28j</td>\n",
       "      <td>28</td>\n",
       "      <td>28</td>\n",
       "    </tr>\n",
       "    <tr>\n",
       "      <th>878</th>\n",
       "      <td>cpszsjthree4</td>\n",
       "      <td>cpszsj34</td>\n",
       "      <td>34</td>\n",
       "      <td>34</td>\n",
       "    </tr>\n",
       "  </tbody>\n",
       "</table>\n",
       "</div>"
      ],
      "text/plain": [
       "                                     raw                       words_repl  \\\n",
       "734              94fourldjgvg7drlcxqtnv2             944ldjgvg7drlcxqtnv2   \n",
       "614                 4onepfqshseven4seven                       41pfqsh747   \n",
       "922   2gnglzbllksix6fgfjrrltrhrspl5seven     2gnglzbllk66fgfjrrltrhrspl57   \n",
       "780                                 vfq4                             vfq4   \n",
       "108  9sevenbprbbnzqjbhfpcgnxjmflxgkvqgvc  97bprbbnzqjbhfpcgnxjmflxgkvqgvc   \n",
       "45             fnkzsdjh3kqxpdvmkmvqqjcjn        fnkzsdjh3kqxpdvmkmvqqjcjn   \n",
       "430                           mkvsblkv76                       mkvsblkv76   \n",
       "436                        zndhqdmkntwo6                      zndhqdmkn26   \n",
       "342                              2eightj                              28j   \n",
       "878                         cpszsjthree4                         cpszsj34   \n",
       "\n",
       "       num res  \n",
       "734  94472  92  \n",
       "614  41747  47  \n",
       "922  26657  27  \n",
       "780      4  44  \n",
       "108     97  97  \n",
       "45       3  33  \n",
       "430     76  76  \n",
       "436     26  26  \n",
       "342     28  28  \n",
       "878     34  34  "
      ]
     },
     "execution_count": 33,
     "metadata": {},
     "output_type": "execute_result"
    }
   ],
   "source": [
    "# replace name of numbers with digit\n",
    "data_2['words_repl'] = data_2['raw'].replace(number_mapping, regex=True)\n",
    "\n",
    "# get column with numbers only\n",
    "data_2['num'] = data_2['words_repl'].str.replace('[^0-9]', '', regex=True)\n",
    "\n",
    "# save first and last digit (when only one digit, it gets save twice)\n",
    "data_2['res'] = data_2['num'].str[0] + data_2['num'].str[-1]\n",
    "\n",
    "data_2.sample(10)"
   ]
  },
  {
   "cell_type": "code",
   "execution_count": 34,
   "metadata": {},
   "outputs": [
    {
     "data": {
      "text/plain": [
       "312                             nxhzvln355\n",
       "396    rfxnrxkk52cjddcmqbrqjvprtbdjtpngl99\n",
       "973                          7977zndthknx1\n",
       "518                     ghqgzfkqhnqn24nfj1\n",
       "239                              flxzfrxp1\n",
       "789                            3qr8xrxgv87\n",
       "399                                    749\n",
       "731                         qp824652kvzhkg\n",
       "916                             zhr1326357\n",
       "768                       9rmms3thrlxjtjkb\n",
       "Name: words_repl, dtype: object"
      ]
     },
     "execution_count": 34,
     "metadata": {},
     "output_type": "execute_result"
    }
   ],
   "source": [
    "data_2['words_repl'].sample(10)"
   ]
  },
  {
   "cell_type": "code",
   "execution_count": 35,
   "metadata": {},
   "outputs": [
    {
     "name": "stdout",
     "output_type": "stream",
     "text": [
      "The solution of puzzle 2 is 55093!\n"
     ]
    }
   ],
   "source": [
    "# SOLUTION 2\n",
    "sum_num_2 = data_2['res'].astype(int).sum()\n",
    "\n",
    "print(f\"The solution of puzzle 2 is {sum_num_2}!\")"
   ]
  }
 ],
 "metadata": {
  "kernelspec": {
   "display_name": "code_of_advent",
   "language": "python",
   "name": "python3"
  },
  "language_info": {
   "codemirror_mode": {
    "name": "ipython",
    "version": 3
   },
   "file_extension": ".py",
   "mimetype": "text/x-python",
   "name": "python",
   "nbconvert_exporter": "python",
   "pygments_lexer": "ipython3",
   "version": "3.11.5"
  },
  "orig_nbformat": 4
 },
 "nbformat": 4,
 "nbformat_minor": 2
}
